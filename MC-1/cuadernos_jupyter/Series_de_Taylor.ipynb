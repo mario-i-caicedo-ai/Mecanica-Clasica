{
  "nbformat": 4,
  "nbformat_minor": 0,
  "metadata": {
    "colab": {
      "name": "Series_de_Taylor.ipynb",
      "provenance": [],
      "collapsed_sections": [],
      "include_colab_link": true
    },
    "kernelspec": {
      "name": "python3",
      "display_name": "Python 3"
    },
    "language_info": {
      "name": "python"
    }
  },
  "cells": [
    {
      "cell_type": "markdown",
      "metadata": {
        "id": "view-in-github",
        "colab_type": "text"
      },
      "source": [
        "<a href=\"https://colab.research.google.com/github/mario-i-caicedo-ai/Mecanica-Clasica/blob/main/MC-1/cuadernos_jupyter/Series_de_Taylor.ipynb\" target=\"_parent\"><img src=\"https://colab.research.google.com/assets/colab-badge.svg\" alt=\"Open In Colab\"/></a>"
      ]
    },
    {
      "cell_type": "markdown",
      "source": [
        "# Series de Taylor (un repaso muy breve)\n",
        "\n",
        "M. I. Caicedo"
      ],
      "metadata": {
        "id": "O2zqGFx5G2CN"
      }
    },
    {
      "cell_type": "markdown",
      "source": [
        "-------------------------------------------------------------------"
      ],
      "metadata": {
        "id": "mK5-MnuaIOaq"
      }
    },
    {
      "cell_type": "markdown",
      "source": [
        "## Conceptos básicos\n",
        "\n",
        "* Las series de Taylor constituyen herramientas poderosísimas del del **análisis de una y más variables**.\n",
        "\n",
        "* El uso de las series de Taylor en la física es conspícuo, por decir lo menos.\n",
        "\n",
        "* Afortunamdamente , no es dificil conectar con la idea fundamental que subyace las series de Taylor.\n",
        "\n",
        "  * Considérese una función suave $f(x)$ y una aproximación polinómica a $f$, es decir, escribamos\n",
        "\n",
        "$$f(x)\\approx{}a_0+a_1x+a_2x^2+a_3x^3+\\dots$$\n",
        "\n",
        "  * Es facil ver que\n",
        "\n",
        "$$f(0)=0,f^\\prime(0)=a_1\\,,f^{\\prime\\prime}(0)=2a_2\\,,\\dots{},f^{(p)}(0)=p!a_p\\,\\dots{}$$\n",
        "\n",
        "De donde,\n",
        "\n",
        "$$\n",
        "\\boxed{\n",
        "f(x)=f(0)+f^\\prime(0)x+\\frac{f^{\\prime\\prime}(0)}{2!}x^2+\\frac{f^{\\prime\\prime\\prime}(0)}{3!}x^3+\\dots}\n",
        "$$"
      ],
      "metadata": {
        "id": "kYN5fYVeiyBm"
      }
    },
    {
      "cell_type": "markdown",
      "source": [
        "-------------------------------------------------------------------"
      ],
      "metadata": {
        "id": "OP0-kir5IKqI"
      }
    },
    {
      "cell_type": "markdown",
      "source": [
        "## Comentarios\n",
        "\n",
        "* Para muchas aplicaciones, se utiliza la siguiente forma de las series de Taylor conocidas como desarrollos de Maclaurin,\n",
        "\n",
        "$$\n",
        "f(x+h)=f(x)+f^{(1)}(x)h+\\frac{f^{(2)}(x)}{2!}h^2+\\frac{f^{(3)}(x)}{3!}h^3+\\dots\n",
        "$$\n",
        "\n",
        "\n",
        "* Para funciones de $n$-variables que toman valores reales, esto es:\n",
        "\n",
        "$$\n",
        "F:\\Re^n\\rightarrow{}ℜ\\,,\n",
        "$$\n",
        "\n",
        "el desarrollo de Taylor centrado en $\\mathbf{x}=\\mathbf{a}$ a orden $2$ tiene la forma\n",
        "\n",
        "$$\n",
        "f(\\mathbf{x})=f(\\mathbf{a})+(\\mathbf{x}-\\mathbf{a})^T\\nabla{}f(\\mathbf{x})|_{\\mathbf{a}}+\\frac{1}{2}(\\mathbf{x}-\\mathbf{a})^T{\\mathbf{H}}[f]|_{\\mathbf{a}}(\\mathbf{x}-\\mathbf{a})+...\n",
        "$$\n",
        "\n",
        "Donde ${\\mathbf{H}}[f]$ es la matriz de Hess de $f$.\n",
        "\n",
        "* Para profundizar en el rigor de la teoría recomiendo los textos de Cálculo y Análisis de T. M. Apostol.\n",
        "\n",
        "\n"
      ],
      "metadata": {
        "id": "T6w3jeM_IWfC"
      }
    },
    {
      "cell_type": "markdown",
      "source": [
        "------------------------------------------------"
      ],
      "metadata": {
        "id": "FCGgfzhEosa6"
      }
    },
    {
      "cell_type": "markdown",
      "source": [
        "## Ejemplo"
      ],
      "metadata": {
        "id": "DCncvV9TL6aF"
      }
    },
    {
      "cell_type": "markdown",
      "source": [
        "Es muy común que la validez e interés de técnicas basadas en el uso de las series de Taylor se pongan en duda, así que como ejemplo tomemos una de las funciones trigonométricas. \n",
        "\n",
        "Un ejercicio corto demuestra que la serie de Taylor para sen(x) es\n",
        "\n",
        "$$\n",
        "sen(x)=x-\\frac{x^3}{3!}+\\frac{x^5}{5!}-\\frac{x^7}{7!}+\\dots{}$$"
      ],
      "metadata": {
        "id": "Qd_20DP2kuhw"
      }
    },
    {
      "cell_type": "markdown",
      "source": [
        "En este cuaderno mostraremos que la serie que acabamos de presentar, es una representación válida de sen(x).  "
      ],
      "metadata": {
        "id": "ju34wc2wm18P"
      }
    },
    {
      "cell_type": "markdown",
      "source": [
        "------------------------------------------------"
      ],
      "metadata": {
        "id": "FCSEHow4nGxC"
      }
    },
    {
      "cell_type": "markdown",
      "source": [
        "Importamos dos bibliotecas estándar de Python"
      ],
      "metadata": {
        "id": "IHgffJDglZ8c"
      }
    },
    {
      "cell_type": "code",
      "execution_count": null,
      "metadata": {
        "id": "seXjGC8aYaln"
      },
      "outputs": [],
      "source": [
        "import numpy as np\n",
        "import matplotlib.pyplot as plt"
      ]
    },
    {
      "cell_type": "markdown",
      "source": [
        "* Definición de la serie como función\n",
        "* np.math.factorial(p) es el factorial de p"
      ],
      "metadata": {
        "id": "u9L5h3valfkk"
      }
    },
    {
      "cell_type": "code",
      "source": [
        "def taylorsin(x,p):\n",
        "  s=0\n",
        "  for m in range(p):\n",
        "    k=2*m+1\n",
        "    f=(-1)**m\n",
        "    s=s+f*(x**k/np.math.factorial(k))\n",
        "  return(s)"
      ],
      "metadata": {
        "id": "7GsYBjH2Y0sI"
      },
      "execution_count": null,
      "outputs": []
    },
    {
      "cell_type": "markdown",
      "source": [
        "Cálculo de los valores de $sen(2\\pi{}x)$ en el intervalo $(0,1)$"
      ],
      "metadata": {
        "id": "wE5MPHGTltt9"
      }
    },
    {
      "cell_type": "code",
      "source": [
        "x = np.arange(0.0, 1.0, 0.01)\n",
        "\n",
        "s = taylorsin(2.*np.pi*x,10)"
      ],
      "metadata": {
        "id": "IhFhs7zWbi0y"
      },
      "execution_count": null,
      "outputs": []
    },
    {
      "cell_type": "code",
      "source": [
        "plt.plot(x, s)\n",
        "plt.xlabel('x')\n",
        "plt.ylabel('$sen(2\\pi{}x)$')\n",
        "plt.title('Ejemplo de serie de Taylor')\n",
        "plt.grid(True)\n",
        "plt.savefig(\"test.png\")\n",
        "plt.show()"
      ],
      "metadata": {
        "colab": {
          "base_uri": "https://localhost:8080/",
          "height": 295
        },
        "id": "uPw8fawwl8MD",
        "outputId": "9dc4f1bc-c14f-4de5-f6f3-e3200deae497"
      },
      "execution_count": null,
      "outputs": [
        {
          "output_type": "display_data",
          "data": {
            "image/png": "[encoded data removed]",
            "text/plain": [
              "<Figure size 432x288 with 1 Axes>"
            ]
          },
          "metadata": {
            "needs_background": "light"
          }
        }
      ]
    },
    {
      "cell_type": "markdown",
      "source": [
        "-----------------------------------------------"
      ],
      "metadata": {
        "id": "KhU-_7S8nKKr"
      }
    }
  ]
}